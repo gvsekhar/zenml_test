{
 "cells": [
  {
   "cell_type": "code",
   "execution_count": 1,
   "metadata": {},
   "outputs": [
    {
     "name": "stdout",
     "output_type": "stream",
     "text": [
      "Requirement already satisfied: zenml[server] in c:\\users\\vijaya.sekhar\\anaconda3\\lib\\site-packages (0.36.1)Note: you may need to restart the kernel to use updated packages.\n",
      "\n",
      "Requirement already satisfied: passlib[bcrypt]<1.8.0,>=1.7.4 in c:\\users\\vijaya.sekhar\\anaconda3\\lib\\site-packages (from zenml[server]) (1.7.4)\n",
      "Requirement already satisfied: python-dateutil<3.0.0,>=2.8.1 in c:\\users\\vijaya.sekhar\\anaconda3\\lib\\site-packages (from zenml[server]) (2.8.2)\n",
      "Requirement already satisfied: pandas<2.0.0,>=1.1.5 in c:\\users\\vijaya.sekhar\\anaconda3\\lib\\site-packages (from zenml[server]) (1.4.4)\n",
      "Requirement already satisfied: pydantic<1.11,>=1.9.0 in c:\\users\\vijaya.sekhar\\anaconda3\\lib\\site-packages (from zenml[server]) (1.10.7)\n",
      "Requirement already satisfied: pymysql<1.1.0,>=1.0.2 in c:\\users\\vijaya.sekhar\\anaconda3\\lib\\site-packages (from zenml[server]) (1.0.2)\n",
      "Requirement already satisfied: docker<6.1.0,>=6.0.0 in c:\\users\\vijaya.sekhar\\anaconda3\\lib\\site-packages (from zenml[server]) (6.0.1)\n",
      "Requirement already satisfied: sqlmodel<0.1.0,>=0.0.8 in c:\\users\\vijaya.sekhar\\anaconda3\\lib\\site-packages (from zenml[server]) (0.0.8)\n",
      "Requirement already satisfied: click-params<0.4.0,>=0.3.0 in c:\\users\\vijaya.sekhar\\anaconda3\\lib\\site-packages (from zenml[server]) (0.3.0)\n",
      "Requirement already satisfied: alembic<1.9.0,>=1.8.1 in c:\\users\\vijaya.sekhar\\anaconda3\\lib\\site-packages (from zenml[server]) (1.8.1)\n",
      "Requirement already satisfied: distro<2.0.0,>=1.6.0 in c:\\users\\vijaya.sekhar\\anaconda3\\lib\\site-packages (from zenml[server]) (1.8.0)\n",
      "Requirement already satisfied: gitpython<4.0.0,>=3.1.18 in c:\\users\\vijaya.sekhar\\anaconda3\\lib\\site-packages (from zenml[server]) (3.1.31)\n",
      "Requirement already satisfied: pyparsing<3,>=2.4.0 in c:\\users\\vijaya.sekhar\\anaconda3\\lib\\site-packages (from zenml[server]) (2.4.2)\n",
      "Requirement already satisfied: pyyaml<6.0.0,>=5.4.1 in c:\\users\\vijaya.sekhar\\anaconda3\\lib\\site-packages (from zenml[server]) (5.4.1)\n",
      "Requirement already satisfied: sqlalchemy_utils==0.38.3 in c:\\users\\vijaya.sekhar\\anaconda3\\lib\\site-packages (from zenml[server]) (0.38.3)\n",
      "Requirement already satisfied: analytics-python<2.0.0,>=1.4.0 in c:\\users\\vijaya.sekhar\\anaconda3\\lib\\site-packages (from zenml[server]) (1.4.post1)\n",
      "Requirement already satisfied: httplib2<0.20,>=0.19.1 in c:\\users\\vijaya.sekhar\\anaconda3\\lib\\site-packages (from zenml[server]) (0.19.1)\n",
      "Requirement already satisfied: rich[jupyter]<13.0.0,>=12.0.0 in c:\\users\\vijaya.sekhar\\anaconda3\\lib\\site-packages (from zenml[server]) (12.6.0)\n",
      "Requirement already satisfied: python-terraform<0.11.0,>=0.10.1 in c:\\users\\vijaya.sekhar\\anaconda3\\lib\\site-packages (from zenml[server]) (0.10.1)\n",
      "Requirement already satisfied: click<9.0.0,>=8.0.1 in c:\\users\\vijaya.sekhar\\anaconda3\\lib\\site-packages (from zenml[server]) (8.0.4)\n",
      "Requirement already satisfied: fastapi-utils<0.3.0,>=0.2.1 in c:\\users\\vijaya.sekhar\\anaconda3\\lib\\site-packages (from zenml[server]) (0.2.1)\n",
      "Requirement already satisfied: python-jose[cryptography]<3.4.0,>=3.3.0 in c:\\users\\vijaya.sekhar\\anaconda3\\lib\\site-packages (from zenml[server]) (3.3.0)\n",
      "Requirement already satisfied: python-multipart<0.1.0,>=0.0.5 in c:\\users\\vijaya.sekhar\\anaconda3\\lib\\site-packages (from zenml[server]) (0.0.6)\n",
      "Requirement already satisfied: uvicorn[standard]<0.18.0,>=0.17.5 in c:\\users\\vijaya.sekhar\\anaconda3\\lib\\site-packages (from zenml[server]) (0.17.6)\n",
      "Requirement already satisfied: orjson<3.9.0,>=3.8.3 in c:\\users\\vijaya.sekhar\\anaconda3\\lib\\site-packages (from zenml[server]) (3.8.8)\n",
      "Requirement already satisfied: fastapi<0.76.0,>=0.75.0 in c:\\users\\vijaya.sekhar\\anaconda3\\lib\\site-packages (from zenml[server]) (0.75.2)\n",
      "Requirement already satisfied: SQLAlchemy>=1.3 in c:\\users\\vijaya.sekhar\\anaconda3\\lib\\site-packages (from sqlalchemy_utils==0.38.3->zenml[server]) (1.4.39)\n",
      "Requirement already satisfied: Mako in c:\\users\\vijaya.sekhar\\anaconda3\\lib\\site-packages (from alembic<1.9.0,>=1.8.1->zenml[server]) (1.2.4)\n",
      "Requirement already satisfied: requests<3.0,>=2.7 in c:\\users\\vijaya.sekhar\\anaconda3\\lib\\site-packages (from analytics-python<2.0.0,>=1.4.0->zenml[server]) (2.28.1)\n",
      "Requirement already satisfied: backoff==1.10.0 in c:\\users\\vijaya.sekhar\\anaconda3\\lib\\site-packages (from analytics-python<2.0.0,>=1.4.0->zenml[server]) (1.10.0)\n",
      "Requirement already satisfied: six>=1.5 in c:\\users\\vijaya.sekhar\\anaconda3\\lib\\site-packages (from analytics-python<2.0.0,>=1.4.0->zenml[server]) (1.16.0)\n",
      "Requirement already satisfied: monotonic>=1.5 in c:\\users\\vijaya.sekhar\\anaconda3\\lib\\site-packages (from analytics-python<2.0.0,>=1.4.0->zenml[server]) (1.6)\n",
      "Requirement already satisfied: colorama in c:\\users\\vijaya.sekhar\\anaconda3\\lib\\site-packages (from click<9.0.0,>=8.0.1->zenml[server]) (0.4.5)\n",
      "Requirement already satisfied: validators<0.19,>=0.18 in c:\\users\\vijaya.sekhar\\anaconda3\\lib\\site-packages (from click-params<0.4.0,>=0.3.0->zenml[server]) (0.18.2)\n",
      "Requirement already satisfied: websocket-client>=0.32.0 in c:\\users\\vijaya.sekhar\\anaconda3\\lib\\site-packages (from docker<6.1.0,>=6.0.0->zenml[server]) (0.58.0)\n",
      "Requirement already satisfied: urllib3>=1.26.0 in c:\\users\\vijaya.sekhar\\anaconda3\\lib\\site-packages (from docker<6.1.0,>=6.0.0->zenml[server]) (1.26.11)\n",
      "Requirement already satisfied: packaging>=14.0 in c:\\users\\vijaya.sekhar\\anaconda3\\lib\\site-packages (from docker<6.1.0,>=6.0.0->zenml[server]) (21.3)\n",
      "Requirement already satisfied: pywin32>=304 in c:\\users\\vijaya.sekhar\\anaconda3\\lib\\site-packages (from docker<6.1.0,>=6.0.0->zenml[server]) (306)\n",
      "Requirement already satisfied: starlette==0.17.1 in c:\\users\\vijaya.sekhar\\anaconda3\\lib\\site-packages (from fastapi<0.76.0,>=0.75.0->zenml[server]) (0.17.1)\n",
      "Requirement already satisfied: anyio<4,>=3.0.0 in c:\\users\\vijaya.sekhar\\anaconda3\\lib\\site-packages (from starlette==0.17.1->fastapi<0.76.0,>=0.75.0->zenml[server]) (3.5.0)\n",
      "Requirement already satisfied: gitdb<5,>=4.0.1 in c:\\users\\vijaya.sekhar\\anaconda3\\lib\\site-packages (from gitpython<4.0.0,>=3.1.18->zenml[server]) (4.0.10)\n",
      "Requirement already satisfied: pytz>=2020.1 in c:\\users\\vijaya.sekhar\\anaconda3\\lib\\site-packages (from pandas<2.0.0,>=1.1.5->zenml[server]) (2022.1)\n",
      "Requirement already satisfied: numpy>=1.18.5 in c:\\users\\vijaya.sekhar\\anaconda3\\lib\\site-packages (from pandas<2.0.0,>=1.1.5->zenml[server]) (1.21.5)\n",
      "Requirement already satisfied: bcrypt>=3.1.0 in c:\\users\\vijaya.sekhar\\anaconda3\\lib\\site-packages (from passlib[bcrypt]<1.8.0,>=1.7.4->zenml[server]) (3.2.0)\n",
      "Requirement already satisfied: typing-extensions>=4.2.0 in c:\\users\\vijaya.sekhar\\anaconda3\\lib\\site-packages (from pydantic<1.11,>=1.9.0->zenml[server]) (4.3.0)\n",
      "Requirement already satisfied: ecdsa!=0.15 in c:\\users\\vijaya.sekhar\\anaconda3\\lib\\site-packages (from python-jose[cryptography]<3.4.0,>=3.3.0->zenml[server]) (0.18.0)\n",
      "Requirement already satisfied: pyasn1 in c:\\users\\vijaya.sekhar\\anaconda3\\lib\\site-packages (from python-jose[cryptography]<3.4.0,>=3.3.0->zenml[server]) (0.4.8)\n",
      "Requirement already satisfied: rsa in c:\\users\\vijaya.sekhar\\anaconda3\\lib\\site-packages (from python-jose[cryptography]<3.4.0,>=3.3.0->zenml[server]) (4.9)\n",
      "Requirement already satisfied: cryptography>=3.4.0 in c:\\users\\vijaya.sekhar\\anaconda3\\lib\\site-packages (from python-jose[cryptography]<3.4.0,>=3.3.0->zenml[server]) (37.0.1)\n",
      "Requirement already satisfied: pygments<3.0.0,>=2.6.0 in c:\\users\\vijaya.sekhar\\anaconda3\\lib\\site-packages (from rich[jupyter]<13.0.0,>=12.0.0->zenml[server]) (2.11.2)\n",
      "Requirement already satisfied: commonmark<0.10.0,>=0.9.0 in c:\\users\\vijaya.sekhar\\anaconda3\\lib\\site-packages (from rich[jupyter]<13.0.0,>=12.0.0->zenml[server]) (0.9.1)\n",
      "Requirement already satisfied: ipywidgets<8.0.0,>=7.5.1 in c:\\users\\vijaya.sekhar\\anaconda3\\lib\\site-packages (from rich[jupyter]<13.0.0,>=12.0.0->zenml[server]) (7.6.5)\n",
      "Requirement already satisfied: sqlalchemy2-stubs in c:\\users\\vijaya.sekhar\\anaconda3\\lib\\site-packages (from sqlmodel<0.1.0,>=0.0.8->zenml[server]) (0.0.2a32)\n",
      "Requirement already satisfied: asgiref>=3.4.0 in c:\\users\\vijaya.sekhar\\anaconda3\\lib\\site-packages (from uvicorn[standard]<0.18.0,>=0.17.5->zenml[server]) (3.6.0)\n",
      "Requirement already satisfied: h11>=0.8 in c:\\users\\vijaya.sekhar\\anaconda3\\lib\\site-packages (from uvicorn[standard]<0.18.0,>=0.17.5->zenml[server]) (0.14.0)\n",
      "Requirement already satisfied: httptools>=0.4.0 in c:\\users\\vijaya.sekhar\\anaconda3\\lib\\site-packages (from uvicorn[standard]<0.18.0,>=0.17.5->zenml[server]) (0.5.0)\n",
      "Requirement already satisfied: websockets>=10.0 in c:\\users\\vijaya.sekhar\\anaconda3\\lib\\site-packages (from uvicorn[standard]<0.18.0,>=0.17.5->zenml[server]) (10.4)\n",
      "Requirement already satisfied: watchgod>=0.6 in c:\\users\\vijaya.sekhar\\anaconda3\\lib\\site-packages (from uvicorn[standard]<0.18.0,>=0.17.5->zenml[server]) (0.8.2)\n",
      "Requirement already satisfied: python-dotenv>=0.13 in c:\\users\\vijaya.sekhar\\anaconda3\\lib\\site-packages (from uvicorn[standard]<0.18.0,>=0.17.5->zenml[server]) (1.0.0)\n",
      "Requirement already satisfied: cffi>=1.1 in c:\\users\\vijaya.sekhar\\anaconda3\\lib\\site-packages (from bcrypt>=3.1.0->passlib[bcrypt]<1.8.0,>=1.7.4->zenml[server]) (1.15.1)\n",
      "Requirement already satisfied: smmap<6,>=3.0.1 in c:\\users\\vijaya.sekhar\\anaconda3\\lib\\site-packages (from gitdb<5,>=4.0.1->gitpython<4.0.0,>=3.1.18->zenml[server]) (5.0.0)\n",
      "Requirement already satisfied: ipython-genutils~=0.2.0 in c:\\users\\vijaya.sekhar\\anaconda3\\lib\\site-packages (from ipywidgets<8.0.0,>=7.5.1->rich[jupyter]<13.0.0,>=12.0.0->zenml[server]) (0.2.0)\n",
      "Requirement already satisfied: jupyterlab-widgets>=1.0.0 in c:\\users\\vijaya.sekhar\\anaconda3\\lib\\site-packages (from ipywidgets<8.0.0,>=7.5.1->rich[jupyter]<13.0.0,>=12.0.0->zenml[server]) (1.0.0)\n",
      "Requirement already satisfied: traitlets>=4.3.1 in c:\\users\\vijaya.sekhar\\anaconda3\\lib\\site-packages (from ipywidgets<8.0.0,>=7.5.1->rich[jupyter]<13.0.0,>=12.0.0->zenml[server]) (5.1.1)\n",
      "Requirement already satisfied: ipython>=4.0.0 in c:\\users\\vijaya.sekhar\\anaconda3\\lib\\site-packages (from ipywidgets<8.0.0,>=7.5.1->rich[jupyter]<13.0.0,>=12.0.0->zenml[server]) (7.31.1)\n",
      "Requirement already satisfied: ipykernel>=4.5.1 in c:\\users\\vijaya.sekhar\\anaconda3\\lib\\site-packages (from ipywidgets<8.0.0,>=7.5.1->rich[jupyter]<13.0.0,>=12.0.0->zenml[server]) (6.15.2)\n",
      "Requirement already satisfied: widgetsnbextension~=3.5.0 in c:\\users\\vijaya.sekhar\\anaconda3\\lib\\site-packages (from ipywidgets<8.0.0,>=7.5.1->rich[jupyter]<13.0.0,>=12.0.0->zenml[server]) (3.5.2)\n",
      "Requirement already satisfied: nbformat>=4.2.0 in c:\\users\\vijaya.sekhar\\anaconda3\\lib\\site-packages (from ipywidgets<8.0.0,>=7.5.1->rich[jupyter]<13.0.0,>=12.0.0->zenml[server]) (5.5.0)\n",
      "Requirement already satisfied: certifi>=2017.4.17 in c:\\users\\vijaya.sekhar\\anaconda3\\lib\\site-packages (from requests<3.0,>=2.7->analytics-python<2.0.0,>=1.4.0->zenml[server]) (2022.9.14)\n",
      "Requirement already satisfied: idna<4,>=2.5 in c:\\users\\vijaya.sekhar\\anaconda3\\lib\\site-packages (from requests<3.0,>=2.7->analytics-python<2.0.0,>=1.4.0->zenml[server]) (3.3)\n",
      "Requirement already satisfied: charset-normalizer<3,>=2 in c:\\users\\vijaya.sekhar\\anaconda3\\lib\\site-packages (from requests<3.0,>=2.7->analytics-python<2.0.0,>=1.4.0->zenml[server]) (2.0.4)\n",
      "Requirement already satisfied: greenlet!=0.4.17 in c:\\users\\vijaya.sekhar\\anaconda3\\lib\\site-packages (from SQLAlchemy>=1.3->sqlalchemy_utils==0.38.3->zenml[server]) (2.0.2)\n",
      "Requirement already satisfied: decorator>=3.4.0 in c:\\users\\vijaya.sekhar\\anaconda3\\lib\\site-packages (from validators<0.19,>=0.18->click-params<0.4.0,>=0.3.0->zenml[server]) (5.1.1)\n",
      "Requirement already satisfied: MarkupSafe>=0.9.2 in c:\\users\\vijaya.sekhar\\anaconda3\\lib\\site-packages (from Mako->alembic<1.9.0,>=1.8.1->zenml[server]) (2.0.1)\n",
      "Requirement already satisfied: sniffio>=1.1 in c:\\users\\vijaya.sekhar\\anaconda3\\lib\\site-packages (from anyio<4,>=3.0.0->starlette==0.17.1->fastapi<0.76.0,>=0.75.0->zenml[server]) (1.2.0)\n",
      "Requirement already satisfied: pycparser in c:\\users\\vijaya.sekhar\\anaconda3\\lib\\site-packages (from cffi>=1.1->bcrypt>=3.1.0->passlib[bcrypt]<1.8.0,>=1.7.4->zenml[server]) (2.21)\n",
      "Requirement already satisfied: jupyter-client>=6.1.12 in c:\\users\\vijaya.sekhar\\anaconda3\\lib\\site-packages (from ipykernel>=4.5.1->ipywidgets<8.0.0,>=7.5.1->rich[jupyter]<13.0.0,>=12.0.0->zenml[server]) (7.3.4)\n",
      "Requirement already satisfied: matplotlib-inline>=0.1 in c:\\users\\vijaya.sekhar\\anaconda3\\lib\\site-packages (from ipykernel>=4.5.1->ipywidgets<8.0.0,>=7.5.1->rich[jupyter]<13.0.0,>=12.0.0->zenml[server]) (0.1.6)\n",
      "Requirement already satisfied: nest-asyncio in c:\\users\\vijaya.sekhar\\anaconda3\\lib\\site-packages (from ipykernel>=4.5.1->ipywidgets<8.0.0,>=7.5.1->rich[jupyter]<13.0.0,>=12.0.0->zenml[server]) (1.5.5)\n",
      "Requirement already satisfied: tornado>=6.1 in c:\\users\\vijaya.sekhar\\anaconda3\\lib\\site-packages (from ipykernel>=4.5.1->ipywidgets<8.0.0,>=7.5.1->rich[jupyter]<13.0.0,>=12.0.0->zenml[server]) (6.1)\n",
      "Requirement already satisfied: psutil in c:\\users\\vijaya.sekhar\\anaconda3\\lib\\site-packages (from ipykernel>=4.5.1->ipywidgets<8.0.0,>=7.5.1->rich[jupyter]<13.0.0,>=12.0.0->zenml[server]) (5.9.0)\n",
      "Requirement already satisfied: debugpy>=1.0 in c:\\users\\vijaya.sekhar\\anaconda3\\lib\\site-packages (from ipykernel>=4.5.1->ipywidgets<8.0.0,>=7.5.1->rich[jupyter]<13.0.0,>=12.0.0->zenml[server]) (1.5.1)\n",
      "Requirement already satisfied: pyzmq>=17 in c:\\users\\vijaya.sekhar\\anaconda3\\lib\\site-packages (from ipykernel>=4.5.1->ipywidgets<8.0.0,>=7.5.1->rich[jupyter]<13.0.0,>=12.0.0->zenml[server]) (23.2.0)\n",
      "Requirement already satisfied: backcall in c:\\users\\vijaya.sekhar\\anaconda3\\lib\\site-packages (from ipython>=4.0.0->ipywidgets<8.0.0,>=7.5.1->rich[jupyter]<13.0.0,>=12.0.0->zenml[server]) (0.2.0)\n",
      "Requirement already satisfied: pickleshare in c:\\users\\vijaya.sekhar\\anaconda3\\lib\\site-packages (from ipython>=4.0.0->ipywidgets<8.0.0,>=7.5.1->rich[jupyter]<13.0.0,>=12.0.0->zenml[server]) (0.7.5)\n",
      "Requirement already satisfied: jedi>=0.16 in c:\\users\\vijaya.sekhar\\anaconda3\\lib\\site-packages (from ipython>=4.0.0->ipywidgets<8.0.0,>=7.5.1->rich[jupyter]<13.0.0,>=12.0.0->zenml[server]) (0.18.1)\n",
      "Requirement already satisfied: setuptools>=18.5 in c:\\users\\vijaya.sekhar\\anaconda3\\lib\\site-packages (from ipython>=4.0.0->ipywidgets<8.0.0,>=7.5.1->rich[jupyter]<13.0.0,>=12.0.0->zenml[server]) (63.4.1)\n",
      "Requirement already satisfied: prompt-toolkit!=3.0.0,!=3.0.1,<3.1.0,>=2.0.0 in c:\\users\\vijaya.sekhar\\anaconda3\\lib\\site-packages (from ipython>=4.0.0->ipywidgets<8.0.0,>=7.5.1->rich[jupyter]<13.0.0,>=12.0.0->zenml[server]) (3.0.20)\n",
      "Requirement already satisfied: fastjsonschema in c:\\users\\vijaya.sekhar\\anaconda3\\lib\\site-packages (from nbformat>=4.2.0->ipywidgets<8.0.0,>=7.5.1->rich[jupyter]<13.0.0,>=12.0.0->zenml[server]) (2.16.2)\n",
      "Requirement already satisfied: jsonschema>=2.6 in c:\\users\\vijaya.sekhar\\anaconda3\\lib\\site-packages (from nbformat>=4.2.0->ipywidgets<8.0.0,>=7.5.1->rich[jupyter]<13.0.0,>=12.0.0->zenml[server]) (4.16.0)\n",
      "Requirement already satisfied: jupyter_core in c:\\users\\vijaya.sekhar\\anaconda3\\lib\\site-packages (from nbformat>=4.2.0->ipywidgets<8.0.0,>=7.5.1->rich[jupyter]<13.0.0,>=12.0.0->zenml[server]) (4.11.1)\n",
      "Requirement already satisfied: notebook>=4.4.1 in c:\\users\\vijaya.sekhar\\anaconda3\\lib\\site-packages (from widgetsnbextension~=3.5.0->ipywidgets<8.0.0,>=7.5.1->rich[jupyter]<13.0.0,>=12.0.0->zenml[server]) (6.4.12)\n",
      "Requirement already satisfied: parso<0.9.0,>=0.8.0 in c:\\users\\vijaya.sekhar\\anaconda3\\lib\\site-packages (from jedi>=0.16->ipython>=4.0.0->ipywidgets<8.0.0,>=7.5.1->rich[jupyter]<13.0.0,>=12.0.0->zenml[server]) (0.8.3)\n",
      "Requirement already satisfied: pyrsistent!=0.17.0,!=0.17.1,!=0.17.2,>=0.14.0 in c:\\users\\vijaya.sekhar\\anaconda3\\lib\\site-packages (from jsonschema>=2.6->nbformat>=4.2.0->ipywidgets<8.0.0,>=7.5.1->rich[jupyter]<13.0.0,>=12.0.0->zenml[server]) (0.18.0)\n",
      "Requirement already satisfied: attrs>=17.4.0 in c:\\users\\vijaya.sekhar\\anaconda3\\lib\\site-packages (from jsonschema>=2.6->nbformat>=4.2.0->ipywidgets<8.0.0,>=7.5.1->rich[jupyter]<13.0.0,>=12.0.0->zenml[server]) (21.4.0)\n",
      "Requirement already satisfied: entrypoints in c:\\users\\vijaya.sekhar\\anaconda3\\lib\\site-packages (from jupyter-client>=6.1.12->ipykernel>=4.5.1->ipywidgets<8.0.0,>=7.5.1->rich[jupyter]<13.0.0,>=12.0.0->zenml[server]) (0.4)\n",
      "Requirement already satisfied: jinja2 in c:\\users\\vijaya.sekhar\\anaconda3\\lib\\site-packages (from notebook>=4.4.1->widgetsnbextension~=3.5.0->ipywidgets<8.0.0,>=7.5.1->rich[jupyter]<13.0.0,>=12.0.0->zenml[server]) (3.0.3)\n",
      "Requirement already satisfied: nbconvert>=5 in c:\\users\\vijaya.sekhar\\anaconda3\\lib\\site-packages (from notebook>=4.4.1->widgetsnbextension~=3.5.0->ipywidgets<8.0.0,>=7.5.1->rich[jupyter]<13.0.0,>=12.0.0->zenml[server]) (6.4.4)\n",
      "Requirement already satisfied: Send2Trash>=1.8.0 in c:\\users\\vijaya.sekhar\\anaconda3\\lib\\site-packages (from notebook>=4.4.1->widgetsnbextension~=3.5.0->ipywidgets<8.0.0,>=7.5.1->rich[jupyter]<13.0.0,>=12.0.0->zenml[server]) (1.8.0)\n",
      "Requirement already satisfied: terminado>=0.8.3 in c:\\users\\vijaya.sekhar\\anaconda3\\lib\\site-packages (from notebook>=4.4.1->widgetsnbextension~=3.5.0->ipywidgets<8.0.0,>=7.5.1->rich[jupyter]<13.0.0,>=12.0.0->zenml[server]) (0.13.1)\n",
      "Requirement already satisfied: argon2-cffi in c:\\users\\vijaya.sekhar\\anaconda3\\lib\\site-packages (from notebook>=4.4.1->widgetsnbextension~=3.5.0->ipywidgets<8.0.0,>=7.5.1->rich[jupyter]<13.0.0,>=12.0.0->zenml[server]) (21.3.0)\n",
      "Requirement already satisfied: prometheus-client in c:\\users\\vijaya.sekhar\\anaconda3\\lib\\site-packages (from notebook>=4.4.1->widgetsnbextension~=3.5.0->ipywidgets<8.0.0,>=7.5.1->rich[jupyter]<13.0.0,>=12.0.0->zenml[server]) (0.14.1)\n",
      "Requirement already satisfied: wcwidth in c:\\users\\vijaya.sekhar\\anaconda3\\lib\\site-packages (from prompt-toolkit!=3.0.0,!=3.0.1,<3.1.0,>=2.0.0->ipython>=4.0.0->ipywidgets<8.0.0,>=7.5.1->rich[jupyter]<13.0.0,>=12.0.0->zenml[server]) (0.2.5)\n",
      "Requirement already satisfied: defusedxml in c:\\users\\vijaya.sekhar\\anaconda3\\lib\\site-packages (from nbconvert>=5->notebook>=4.4.1->widgetsnbextension~=3.5.0->ipywidgets<8.0.0,>=7.5.1->rich[jupyter]<13.0.0,>=12.0.0->zenml[server]) (0.7.1)\n",
      "Requirement already satisfied: nbclient<0.6.0,>=0.5.0 in c:\\users\\vijaya.sekhar\\anaconda3\\lib\\site-packages (from nbconvert>=5->notebook>=4.4.1->widgetsnbextension~=3.5.0->ipywidgets<8.0.0,>=7.5.1->rich[jupyter]<13.0.0,>=12.0.0->zenml[server]) (0.5.13)\n",
      "Requirement already satisfied: mistune<2,>=0.8.1 in c:\\users\\vijaya.sekhar\\anaconda3\\lib\\site-packages (from nbconvert>=5->notebook>=4.4.1->widgetsnbextension~=3.5.0->ipywidgets<8.0.0,>=7.5.1->rich[jupyter]<13.0.0,>=12.0.0->zenml[server]) (0.8.4)\n",
      "Requirement already satisfied: jupyterlab-pygments in c:\\users\\vijaya.sekhar\\anaconda3\\lib\\site-packages (from nbconvert>=5->notebook>=4.4.1->widgetsnbextension~=3.5.0->ipywidgets<8.0.0,>=7.5.1->rich[jupyter]<13.0.0,>=12.0.0->zenml[server]) (0.1.2)\n",
      "Requirement already satisfied: testpath in c:\\users\\vijaya.sekhar\\anaconda3\\lib\\site-packages (from nbconvert>=5->notebook>=4.4.1->widgetsnbextension~=3.5.0->ipywidgets<8.0.0,>=7.5.1->rich[jupyter]<13.0.0,>=12.0.0->zenml[server]) (0.6.0)\n",
      "Requirement already satisfied: bleach in c:\\users\\vijaya.sekhar\\anaconda3\\lib\\site-packages (from nbconvert>=5->notebook>=4.4.1->widgetsnbextension~=3.5.0->ipywidgets<8.0.0,>=7.5.1->rich[jupyter]<13.0.0,>=12.0.0->zenml[server]) (4.1.0)\n",
      "Requirement already satisfied: pandocfilters>=1.4.1 in c:\\users\\vijaya.sekhar\\anaconda3\\lib\\site-packages (from nbconvert>=5->notebook>=4.4.1->widgetsnbextension~=3.5.0->ipywidgets<8.0.0,>=7.5.1->rich[jupyter]<13.0.0,>=12.0.0->zenml[server]) (1.5.0)\n",
      "Requirement already satisfied: beautifulsoup4 in c:\\users\\vijaya.sekhar\\anaconda3\\lib\\site-packages (from nbconvert>=5->notebook>=4.4.1->widgetsnbextension~=3.5.0->ipywidgets<8.0.0,>=7.5.1->rich[jupyter]<13.0.0,>=12.0.0->zenml[server]) (4.11.1)\n",
      "Requirement already satisfied: pywinpty>=1.1.0 in c:\\users\\vijaya.sekhar\\anaconda3\\lib\\site-packages (from terminado>=0.8.3->notebook>=4.4.1->widgetsnbextension~=3.5.0->ipywidgets<8.0.0,>=7.5.1->rich[jupyter]<13.0.0,>=12.0.0->zenml[server]) (2.0.2)\n",
      "Requirement already satisfied: argon2-cffi-bindings in c:\\users\\vijaya.sekhar\\anaconda3\\lib\\site-packages (from argon2-cffi->notebook>=4.4.1->widgetsnbextension~=3.5.0->ipywidgets<8.0.0,>=7.5.1->rich[jupyter]<13.0.0,>=12.0.0->zenml[server]) (21.2.0)\n",
      "Requirement already satisfied: soupsieve>1.2 in c:\\users\\vijaya.sekhar\\anaconda3\\lib\\site-packages (from beautifulsoup4->nbconvert>=5->notebook>=4.4.1->widgetsnbextension~=3.5.0->ipywidgets<8.0.0,>=7.5.1->rich[jupyter]<13.0.0,>=12.0.0->zenml[server]) (2.3.1)\n",
      "Requirement already satisfied: webencodings in c:\\users\\vijaya.sekhar\\anaconda3\\lib\\site-packages (from bleach->nbconvert>=5->notebook>=4.4.1->widgetsnbextension~=3.5.0->ipywidgets<8.0.0,>=7.5.1->rich[jupyter]<13.0.0,>=12.0.0->zenml[server]) (0.5.1)\n"
     ]
    },
    {
     "name": "stderr",
     "output_type": "stream",
     "text": [
      "C:\\Users\\vijaya.sekhar\\Anaconda3\\lib\\site-packages\\paramiko\\transport.py:219: CryptographyDeprecationWarning: Blowfish has been deprecated\n",
      "  \"class\": algorithms.Blowfish,\n",
      "INFO:numexpr.utils:NumExpr defaulting to 8 threads.\n"
     ]
    },
    {
     "name": "stdout",
     "output_type": "stream",
     "text": [
      "Note: you may need to restart the kernel to use updated packages.\n"
     ]
    },
    {
     "name": "stderr",
     "output_type": "stream",
     "text": [
      "ERROR: Invalid requirement: '#'\n"
     ]
    },
    {
     "data": {
      "text/plain": [
       "{'status': 'ok', 'restart': True}"
      ]
     },
     "execution_count": 1,
     "metadata": {},
     "output_type": "execute_result"
    }
   ],
   "source": [
    "%pip install \"zenml[server]\"\n",
    "!zenml integration install sklearn -y\n",
    "%pip install pyparsing==2.4.2  # required for Colab\n",
    "\n",
    "import IPython\n",
    "\n",
    "# automatically restart kernel\n",
    "IPython.Application.instance().kernel.do_shutdown(restart=True)"
   ]
  },
  {
   "cell_type": "markdown",
   "metadata": {},
   "source": [
    "**Colab Note:** On Colab, you need an [ngrok account](https://dashboard.ngrok.com/signup) to view some of the visualizations later. Please set up an account, then set your user token below:"
   ]
  },
  {
   "cell_type": "code",
   "execution_count": 2,
   "metadata": {},
   "outputs": [],
   "source": [
    "NGROK_TOKEN = \"\"  # TODO: set your ngrok token if you are working on Colab"
   ]
  },
  {
   "cell_type": "code",
   "execution_count": 3,
   "metadata": {},
   "outputs": [],
   "source": [
    "from zenml.environment import Environment\n",
    "\n",
    "if Environment.in_google_colab():  # Colab only setup\n",
    "\n",
    "    # install and authenticate ngrok\n",
    "    !pip install pyngrok\n",
    "    !ngrok authtoken {NGROK_TOKEN}"
   ]
  },
  {
   "cell_type": "markdown",
   "metadata": {},
   "source": [
    "As an ML practitioner, you are probably familiar with building ML models using Scikit-learn, PyTorch, TensorFlow, or similar. An **[ML Pipeline](https://docs.zenml.io/starter-guide/pipelines)** is simply an extension, including other steps you would typically do before or after building a model, like data acquisition, preprocessing, model deployment, or monitoring. The ML pipeline essentially defines a step-by-step procedure of your work as an ML practitioner. Defining ML pipelines explicitly in code is great because:\n",
    "- We can easily rerun all of our work, not just the model, eliminating bugs and making our models easier to reproduce.\n",
    "- Data and models can be versioned and tracked, so we can see at a glance which dataset a model was trained on and how it compares to other models.\n",
    "- If the entire pipeline is coded up, we can automate many operational tasks, like retraining and redeploying models when the underlying problem or data changes or rolling out new and improved models with CI/CD workflows.\n",
    "\n",
    "Having a clearly defined ML pipeline is essential for ML teams that aim to serve models on a large scale."
   ]
  },
  {
   "cell_type": "markdown",
   "metadata": {},
   "source": [
    "## ZenML Setup\n",
    "Throughout this series, we will define our ML pipelines using [ZenML](https://github.com/zenml-io/zenml/). ZenML is an excellent tool for this task, as it is straightforward and intuitive to use and has [integrations](https://docs.zenml.io/component-gallery/integrations) with most of the advanced MLOps tools we will want to use later. Make sure you have ZenML installed (via `pip install zenml`). Next, let's run some commands to make sure you start with a fresh ML stack."
   ]
  },
  {
   "cell_type": "code",
   "execution_count": null,
   "metadata": {},
   "outputs": [],
   "source": [
    "!rm -rf .zen\n",
    "!zenml init"
   ]
  },
  {
   "cell_type": "code",
   "execution_count": null,
   "metadata": {},
   "outputs": [],
   "source": [
    "import os\n",
    "print(os.getcwd())"
   ]
  },
  {
   "cell_type": "code",
   "execution_count": 12,
   "metadata": {},
   "outputs": [
    {
     "name": "stdout",
     "output_type": "stream",
     "text": [
      "2.6284396881237626e-10\n"
     ]
    }
   ],
   "source": [
    "import numpy as np\n",
    "import pandas as pd\n",
    "from sklearn.base import ClassifierMixin\n",
    "from sklearn.base import RegressorMixin\n",
    "from sklearn.preprocessing import LabelEncoder\n",
    "import json\n",
    "from pandas.io.json import json_normalize\n",
    "from xgboost import XGBRegressor\n",
    "from sklearn.model_selection import GridSearchCV\n",
    "from sklearn.metrics import mean_squared_error\n",
    "import xgboost as xgb\n",
    "from sklearn.model_selection import train_test_split\n",
    "\n",
    "\n",
    "def train_test() -> None:\n",
    "    \"\"\"Train and test a Scikit-learn XGB Regressor\"\"\"\n",
    "#     digits = load_digits()\n",
    "#     data = digits.images.reshape((len(digits.images), -1))\n",
    "    with open('C:/Users/vijaya.sekhar/Downloads/download/download/EVRI/EVRI/data/evri-nonprod-dgw-firehose-tracking-5-2022-05-05-06 (early morning sample).json') as f:\n",
    "        ps_data = json.load(f)\n",
    "    ps_df = pd.json_normalize(ps_data)\n",
    "    df = ps_df[['originalParcelCreationTime',\n",
    "   'trackingEvent.eventCategory',\n",
    "  'trackingEvent.client.clientId',\n",
    "   'trackingEvent.preadviceDetail.deliveryDetails.parcelId',\n",
    "   'trackingEvent.preadviceDetail.parcelDetails.numberOfItems',\n",
    "   'trackingEvent.preadviceDetail.parcelType.parcelTypeId']].copy()\n",
    "        \n",
    "    df[\"originalParcelCreationTime\"]= pd.to_datetime(df[\"originalParcelCreationTime\"])\n",
    "    df['hour'] = df[\"originalParcelCreationTime\"].dt.hour\n",
    "    df['weekdayind'] = np.where(df['originalParcelCreationTime'].dt.dayofweek.isin([5,6]), 1, 0)\n",
    "    b = [0,4,8,12,16,20,24]\n",
    "    l = ['Late_Night', 'Early_Morning','Morning','Noon','Eve','Night']\n",
    "    df['sessionofday'] = pd.cut(df['hour'], bins=b, labels=l, include_lowest=True)\n",
    "    \n",
    "    \n",
    "    le = LabelEncoder()\n",
    "    df['trackingEvent.eventCategory'] = le.fit_transform(df['trackingEvent.eventCategory'])\n",
    "    df['sessionofday'] = le.fit_transform(df['sessionofday'])\n",
    "    \n",
    "    features = df[['trackingEvent.eventCategory', 'trackingEvent.client.clientId',\n",
    "       'trackingEvent.preadviceDetail.deliveryDetails.parcelId','trackingEvent.preadviceDetail.parcelType.parcelTypeId','hour','sessionofday','weekdayind']]\n",
    "    target = df[['trackingEvent.preadviceDetail.parcelDetails.numberOfItems']]\n",
    "    train_size = int(len(df)*0.8)\n",
    "    X_train,y_train = features[:train_size],target[:train_size]\n",
    "    X_test,y_test = features[train_size:],target[train_size:]\n",
    "    params = { \n",
    "     'objective': 'reg:squarederror',\n",
    "     'max_depth': 3,\n",
    "    'learning_rate': 0.1,\n",
    "     'subsample': 0.8,\n",
    "    'colsample_bytree': 0.8,\n",
    "    'n_estimators': 100\n",
    "    }\n",
    "#     test_df = df[df['week'] >= '2019-06-01']\n",
    "#     train_df = df[df['week'] < '2019-06-01']\n",
    "#     X_train, y_train = train_df[features], train_df[label]\n",
    "#     X_test, y_test = test_df[features], test_df[label]\n",
    "    model = xgb.XGBRegressor(**params)\n",
    "    model.fit(X_train,y_train)\n",
    "    pred = model.predict(X_test)\n",
    "    mse = mean_squared_error(y_test,pred)\n",
    "    print(mse)\n",
    "    df['pred'] = pd.DataFrame(pred)\n",
    "#     test_acc = model.score(test_features,test_target)\n",
    "#     print(f\"Test accuracy: {test_acc}\")\n",
    "\n",
    "\n",
    "train_test()"
   ]
  },
  {
   "cell_type": "markdown",
   "metadata": {},
   "source": [
    "## Turning experiments into ML pipelines with ZenML"
   ]
  },
  {
   "cell_type": "code",
   "execution_count": 16,
   "metadata": {},
   "outputs": [],
   "source": [
    "from zenml.steps import step, Output\n",
    "\n",
    "\n",
    "@step\n",
    "def importer() -> Output(\n",
    "#     X_train=np.ndarray,\n",
    "#     X_test=np.ndarray,\n",
    "#     y_train=np.ndarray,\n",
    "#     y_test=np.ndarray,\n",
    "    X_train=pd.DataFrame,\n",
    "    X_test=pd.DataFrame,\n",
    "    y_train=pd.DataFrame,\n",
    "    y_test=pd.DataFrame,\n",
    "):\n",
    "    \"\"\"Load the digits dataset as numpy arrays.\"\"\"\n",
    "#     digits = load_digits()\n",
    "#     data = digits.images.reshape((len(digits.images), -1))\n",
    "#     X_train, X_test, y_train, y_test = train_test_split(\n",
    "#         data, digits.target, test_size=0.2, shuffle=False\n",
    "\n",
    "    with open('C:/Users/vijaya.sekhar/Downloads/download/download/EVRI/EVRI/data/evri-nonprod-dgw-firehose-tracking-5-2022-05-05-06 (early morning sample).json') as f:\n",
    "        ps_data = json.load(f)\n",
    "    ps_df = pd.json_normalize(ps_data)\n",
    "#     df = ps_df[['originalParcelCreationTime','trackingEvent.eventCategory','trackingEvent.client.clientId','trackingEvent.preadviceDetail.deliveryDetails.parcelId','trackingEvent.preadviceDetail.parcelDetails.numberOfItems','trackingEvent.preadviceDetail.parcelType.parcelTypeId']].copy()\n",
    "    \n",
    "    df = ps_df.filter(['originalParcelCreationTime','trackingEvent.eventCategory','trackingEvent.client.clientId','trackingEvent.preadviceDetail.deliveryDetails.parcelId','trackingEvent.preadviceDetail.parcelDetails.numberOfItems','trackingEvent.preadviceDetail.parcelType.parcelTypeId'], axis =1)\n",
    "    \n",
    "    df[\"originalParcelCreationTime\"]= pd.to_datetime(df[\"originalParcelCreationTime\"])\n",
    "    df['hour'] = df[\"originalParcelCreationTime\"].dt.hour\n",
    "    df['weekdayind'] = np.where(df['originalParcelCreationTime'].dt.dayofweek.isin([5,6]), 1, 0)\n",
    "    b = [0,4,8,12,16,20,24]\n",
    "    l = ['Late_Night', 'Early_Morning','Morning','Noon','Eve','Night']\n",
    "    df['sessionofday'] = pd.cut(df['hour'], bins=b, labels=l, include_lowest=True)\n",
    "    \n",
    "    \n",
    "    le = LabelEncoder()\n",
    "    df['trackingEvent.eventCategory'] = le.fit_transform(df['trackingEvent.eventCategory'])\n",
    "    df['sessionofday'] = le.fit_transform(df['sessionofday'])\n",
    "    \n",
    "    features = df[['trackingEvent.eventCategory', 'trackingEvent.client.clientId',\n",
    "       'trackingEvent.preadviceDetail.deliveryDetails.parcelId','trackingEvent.preadviceDetail.parcelType.parcelTypeId','hour','sessionofday','weekdayind']]\n",
    "    target = df[['trackingEvent.preadviceDetail.parcelDetails.numberOfItems']]\n",
    "    train_size = int(len(df)*0.8)\n",
    "    X_train,y_train = features[:train_size],target[:train_size]\n",
    "    X_test,y_test = features[train_size:],target[train_size:]\n",
    "#     X_test.to_numpy()\n",
    "#     y_test.to_numpy()\n",
    "#     X_train.to_numpy()\n",
    "#     y_train.to_numpy()\n",
    "    return X_train, X_test, y_train, y_test\n",
    "\n",
    "\n",
    "@step\n",
    "def xg_trainer(\n",
    "#     X_train: np.ndarray,\n",
    "#     y_train: np.ndarray,\n",
    "    X_train: pd.DataFrame,\n",
    "    y_train: pd.DataFrame,\n",
    ") -> RegressorMixin:\n",
    "    \"\"\"Train an sklearn XGB Regressor.\"\"\"\n",
    "#     model = SVC(gamma=0.001)\n",
    "#     model.fit(X_train, y_train)\n",
    "    params = { \n",
    "     'objective': 'reg:squarederror',\n",
    "     'max_depth': 3,\n",
    "    'learning_rate': 0.1,\n",
    "     'subsample': 0.8,\n",
    "    'colsample_bytree': 0.8,\n",
    "    'n_estimators': 100\n",
    "    }\n",
    "    model = xgb.XGBRegressor(**params)\n",
    "    model.fit(X_train,y_train)\n",
    "\n",
    "    return model\n",
    "\n",
    "\n",
    "@step\n",
    "def evaluator(\n",
    "#     X_test: np.ndarray,\n",
    "#     y_test: np.ndarray,\n",
    "    X_test: pd.DataFrame,\n",
    "    y_test: pd.DataFrame,\n",
    "    \n",
    "    model: RegressorMixin,\n",
    ") -> float:\n",
    "#     \"\"\"Calculate the test set accuracy of an sklearn model.\"\"\"\n",
    "#     test_acc = model.score(X_test, y_test)\n",
    "#     print(f\"Test accuracy: {test_acc}\")\n",
    "    pred = model.predict(X_test)\n",
    "    mse = mean_squared_error(y_test,pred)\n",
    "    print(mse)\n",
    "    #df['pred'] = pd.DataFrame(pred)\n",
    "    return mse"
   ]
  },
  {
   "cell_type": "markdown",
   "metadata": {},
   "source": [
    "Similarly, we can use ZenML's `@pipeline` decorator to connect all of our steps into an ML pipeline.\n",
    "\n",
    "Note that the pipeline definition does not depend on the concrete step functions we defined above; it merely establishes a recipe for how data moves through the steps. This means we can replace steps as we wish, e.g., to run the same pipeline with different models to compare their performances."
   ]
  },
  {
   "cell_type": "code",
   "execution_count": 17,
   "metadata": {},
   "outputs": [],
   "source": [
    "from zenml.pipelines import pipeline\n",
    "\n",
    "\n",
    "@pipeline\n",
    "def xg_pipeline(importer, trainer, evaluator):\n",
    "    \"\"\"Links all the steps together in a pipeline\"\"\"\n",
    "    X_train, X_test, y_train, y_test = importer()\n",
    "    model = trainer(X_train=X_train, y_train=y_train)\n",
    "    evaluator(X_test=X_test, y_test=y_test, model=model)"
   ]
  },
  {
   "cell_type": "markdown",
   "metadata": {},
   "source": [
    "## Running ZenML Pipelines\n",
    "Finally, we initialize our pipeline with concrete step functions and call the `run()` method to run it."
   ]
  },
  {
   "cell_type": "code",
   "execution_count": 18,
   "metadata": {},
   "outputs": [
    {
     "name": "stdout",
     "output_type": "stream",
     "text": [
      "\u001b[1;35mRegistered pipeline \u001b[0m\u001b[33mxg_pipeline\u001b[1;35m (version 3).\u001b[0m\n",
      "\u001b[1;35mRunning pipeline \u001b[0m\u001b[33mxg_pipeline\u001b[1;35m on stack \u001b[0m\u001b[33mdefault\u001b[1;35m (caching enabled)\u001b[0m\n",
      "\u001b[1;35mStep \u001b[0m\u001b[33mimporter\u001b[1;35m has started.\u001b[0m\n",
      "\u001b[1;35mUsing cached version of \u001b[0m\u001b[33mimporter\u001b[1;35m.\u001b[0m\n",
      "\u001b[1;35mStep \u001b[0m\u001b[33mtrainer\u001b[1;35m has started.\u001b[0m\n",
      "\u001b[1;35mUsing cached version of \u001b[0m\u001b[33mtrainer\u001b[1;35m.\u001b[0m\n",
      "\u001b[1;35mStep \u001b[0m\u001b[33mevaluator\u001b[1;35m has started.\u001b[0m\n",
      "2.6284396881237626e-10\n",
      "\u001b[1;35mStep \u001b[0m\u001b[33mevaluator\u001b[1;35m has finished in 0.174s.\u001b[0m\n",
      "\u001b[1;35mPipeline run \u001b[0m\u001b[33mxg_pipeline-2023_03_29-08_50_28_101584\u001b[1;35m has finished in 2.407s.\u001b[0m\n",
      "\u001b[1;35mPipeline visualization can be seen in the ZenML Dashboard. Run \u001b[0m\u001b[33mzenml up\u001b[1;35m to see your pipeline!\u001b[0m\n"
     ]
    }
   ],
   "source": [
    "xg_pipeline = xg_pipeline(\n",
    "    importer=importer(), trainer=xg_trainer(), evaluator=evaluator(),\n",
    "#     model_register=mlflow_register_model_step(\n",
    "#             params=MLFlowRegistryParameters(\n",
    "#             name=\"xgregression-model\",\n",
    "#             description=\"A xg model trained with ZenML\",\n",
    "#             tags={\"framework\": \"xgboost\", \"dataset\": \"data\"},\n",
    "#             description=f\"The 1st run of the mlflow_training_pipeline\")\n",
    "#     )\n",
    ")\n",
    "xg_pipeline.run()"
   ]
  },
  {
   "cell_type": "code",
   "execution_count": null,
   "metadata": {},
   "outputs": [],
   "source": [
    "!zenml up"
   ]
  },
  {
   "cell_type": "markdown",
   "metadata": {},
   "source": [
    "And that's it, we just built and ran our first ML pipeline! Great job!\n",
    "\n",
    "You can now visualize the pipeline run in ZenML's dashboard. To do so, run \n",
    "`zenml up` to spin up a ZenML dashboard locally, log in with username `default`\n",
    "and empty password, and navigate to the \"Runs\" tab in the \"Pipelines\" section."
   ]
  },
  {
   "cell_type": "code",
   "execution_count": null,
   "metadata": {},
   "outputs": [],
   "source": [
    "from zenml.environment import Environment\n",
    "\n",
    "def start_zenml_dashboard(port=8237):\n",
    "    if Environment.in_google_colab():\n",
    "        from pyngrok import ngrok\n",
    "\n",
    "        public_url = ngrok.connect(port)\n",
    "        print(f\"\\x1b[31mIn Colab, use this URL instead: {public_url}!\\x1b[0m\")\n",
    "        !zenml up --blocking --port {port}\n",
    "\n",
    "    else:\n",
    "        !zenml up --blocking --port {port}\n",
    "\n",
    "start_zenml_dashboard()"
   ]
  },
  {
   "cell_type": "code",
   "execution_count": null,
   "metadata": {},
   "outputs": [],
   "source": [
    "Environment."
   ]
  },
  {
   "cell_type": "code",
   "execution_count": null,
   "metadata": {},
   "outputs": [],
   "source": [
    "# import mlflow\n",
    "# # zenml integration install mlflow -y\n",
    "# # Register the MLflow experiment tracker\n",
    "# # zenml experiment-tracker register mlflow_experiment_tracker --flavor=mlflow\n",
    "\n",
    "# # Register and set a stack with the new experiment tracker\n",
    "# # zenml stack register custom_stack -e mlflow_experiment_tracker ... --set\n",
    "\n",
    "\n",
    "# @step(experiment_tracker=\"<MLFLOW_TRACKER_STACK_COMPONENT_NAME>\")\n",
    "# def tf_trainer(\n",
    "#     x_train: pd.DataFrame,\n",
    "#     y_train: pd.DataFrame,\n",
    "# ) -> tf.keras.Model:\n",
    "#     \"\"\"Train a neural net from scratch to recognize MNIST digits return our\n",
    "#     model or the learner\"\"\"\n",
    "    \n",
    "#     # compile model\n",
    "\n",
    "#     mlflow.xgboost.autolog()\n",
    "    \n",
    "#     # train model\n",
    "\n",
    "#     # log additional information to MLflow explicitly if needed\n",
    "\n",
    "#     mlflow.log_param(...)\n",
    "#     mlflow.log_metric(...)\n",
    "#     mlflow.log_artifact(...)\n",
    "\n",
    "#     return model"
   ]
  },
  {
   "cell_type": "code",
   "execution_count": null,
   "metadata": {},
   "outputs": [],
   "source": [
    "# from zenml.integrations.mlflow.steps.mlflow_deployer import (\n",
    "#     MLFlowDeployerParameters,\n",
    "#     mlflow_model_registry_deployer_step,\n",
    "# )\n",
    "\n",
    "# mlflow_training_pipeline(\n",
    "#     importer=importer(),\n",
    "#     trainer=xg_trainer(params=params),\n",
    "#     evaluator=xg_evaluator(),\n",
    "#     model_register=mlflow_register_model_step(\n",
    "#         params=MLFlowRegistryParameters(\n",
    "#             name=\"xgregression-model\",\n",
    "#             description=\"A xg model trained with ZenML\",\n",
    "#             tags={\"framework\": \"xgboost\", \"dataset\": \"data\"},\n",
    "#             description=f\"The 1st run of the mlflow_training_pipeline.\",\n",
    "#         )\n",
    "#     ),\n",
    "# ).run()\n",
    "\n",
    "# # The list of parameters that can be passed to the mlflow_model_register_step:\n",
    "# \"\"\"\n",
    "#     name: Name of the registered model.\n",
    "#     experiment_name: Name of the MLflow experiment to be used for the run.\n",
    "#     run_name: Name of the MLflow run to be created.\n",
    "#     run_id: ID of the MLflow run to be used.\n",
    "#     model_source_uri: URI of the model source. If not provided, the model\n",
    "#         will be fetched from the MLflow tracking server.\n",
    "#     description: Description of the model.\n",
    "#     metadata: Tags to be added to the model.\n",
    "# \"\"\""
   ]
  }
 ],
 "metadata": {
  "kernelspec": {
   "display_name": "Python 3 (ipykernel)",
   "language": "python",
   "name": "python3"
  },
  "language_info": {
   "codemirror_mode": {
    "name": "ipython",
    "version": 3
   },
   "file_extension": ".py",
   "mimetype": "text/x-python",
   "name": "python",
   "nbconvert_exporter": "python",
   "pygments_lexer": "ipython3",
   "version": "3.9.13"
  },
  "vscode": {
   "interpreter": {
    "hash": "ec45946565c50b1d690aa5a9e3c974f5b62b9cc8d8934e441e52186140f79402"
   }
  }
 },
 "nbformat": 4,
 "nbformat_minor": 2
}
